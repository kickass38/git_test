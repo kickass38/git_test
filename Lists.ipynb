{
 "cells": [
  {
   "cell_type": "code",
   "execution_count": 5,
   "id": "81c25319",
   "metadata": {},
   "outputs": [],
   "source": [
    "# Creating lists\n",
    "lista = [1,2,3,4,5]"
   ]
  },
  {
   "cell_type": "code",
   "execution_count": 6,
   "id": "269a25d3",
   "metadata": {},
   "outputs": [],
   "source": [
    "lista.append(6)"
   ]
  },
  {
   "cell_type": "code",
   "execution_count": 7,
   "id": "ee79d99e",
   "metadata": {},
   "outputs": [
    {
     "data": {
      "text/plain": [
       "[1, 2, 3, 4, 5, 6]"
      ]
     },
     "execution_count": 7,
     "metadata": {},
     "output_type": "execute_result"
    }
   ],
   "source": [
    "lista"
   ]
  },
  {
   "cell_type": "code",
   "execution_count": 8,
   "id": "0cd2917e",
   "metadata": {},
   "outputs": [],
   "source": [
    "listb = [7,8,9]\n",
    "lista.extend(listb)"
   ]
  },
  {
   "cell_type": "code",
   "execution_count": 9,
   "id": "9bef6496",
   "metadata": {},
   "outputs": [
    {
     "data": {
      "text/plain": [
       "[1, 2, 3, 4, 5, 6, 7, 8, 9]"
      ]
     },
     "execution_count": 9,
     "metadata": {},
     "output_type": "execute_result"
    }
   ],
   "source": [
    "lista"
   ]
  },
  {
   "cell_type": "code",
   "execution_count": 11,
   "id": "1893d6d4",
   "metadata": {},
   "outputs": [],
   "source": [
    "lista.insert(2,2.5)"
   ]
  },
  {
   "cell_type": "code",
   "execution_count": 12,
   "id": "9710f349",
   "metadata": {},
   "outputs": [
    {
     "data": {
      "text/plain": [
       "[1, 2, 2.5, 3, 4, 5, 6, 7, 8, 9]"
      ]
     },
     "execution_count": 12,
     "metadata": {},
     "output_type": "execute_result"
    }
   ],
   "source": [
    "lista"
   ]
  },
  {
   "cell_type": "code",
   "execution_count": 13,
   "id": "7b7bf34b",
   "metadata": {},
   "outputs": [
    {
     "data": {
      "text/plain": [
       "2.5"
      ]
     },
     "execution_count": 13,
     "metadata": {},
     "output_type": "execute_result"
    }
   ],
   "source": [
    "lista.pop(2)"
   ]
  },
  {
   "cell_type": "code",
   "execution_count": 14,
   "id": "e8951f9c",
   "metadata": {},
   "outputs": [
    {
     "data": {
      "text/plain": [
       "[1, 2, 3, 4, 5, 6, 7, 8, 9]"
      ]
     },
     "execution_count": 14,
     "metadata": {},
     "output_type": "execute_result"
    }
   ],
   "source": [
    "lista"
   ]
  },
  {
   "cell_type": "code",
   "execution_count": 16,
   "id": "d784801c",
   "metadata": {},
   "outputs": [
    {
     "data": {
      "text/plain": [
       "6"
      ]
     },
     "execution_count": 16,
     "metadata": {},
     "output_type": "execute_result"
    }
   ],
   "source": [
    "lista.index(7,0,len(lista))"
   ]
  },
  {
   "cell_type": "code",
   "execution_count": 19,
   "id": "28108b5d",
   "metadata": {},
   "outputs": [
    {
     "data": {
      "text/plain": [
       "1"
      ]
     },
     "execution_count": 19,
     "metadata": {},
     "output_type": "execute_result"
    }
   ],
   "source": [
    "lista.count(7)"
   ]
  },
  {
   "cell_type": "code",
   "execution_count": 26,
   "id": "8164ca86",
   "metadata": {},
   "outputs": [],
   "source": [
    "lista.reverse()"
   ]
  },
  {
   "cell_type": "code",
   "execution_count": 27,
   "id": "864898aa",
   "metadata": {},
   "outputs": [
    {
     "data": {
      "text/plain": [
       "[9, 8, 7, 6, 5, 4, 3, 2, 1]"
      ]
     },
     "execution_count": 27,
     "metadata": {},
     "output_type": "execute_result"
    }
   ],
   "source": [
    "lista"
   ]
  },
  {
   "cell_type": "code",
   "execution_count": 37,
   "id": "2952d905",
   "metadata": {},
   "outputs": [],
   "source": [
    "lista.reverse()"
   ]
  },
  {
   "cell_type": "code",
   "execution_count": 29,
   "id": "dcb746c8",
   "metadata": {},
   "outputs": [
    {
     "data": {
      "text/plain": [
       "[1, 2, 3, 4, 5, 6, 7, 8, 9]"
      ]
     },
     "execution_count": 29,
     "metadata": {},
     "output_type": "execute_result"
    }
   ],
   "source": [
    "lista"
   ]
  },
  {
   "cell_type": "code",
   "execution_count": 33,
   "id": "4467ec74",
   "metadata": {},
   "outputs": [],
   "source": [
    "listb = lista.copy()"
   ]
  },
  {
   "cell_type": "code",
   "execution_count": 36,
   "id": "836d52b8",
   "metadata": {},
   "outputs": [
    {
     "data": {
      "text/plain": [
       "[1, 2, 3, 4, 5, 6, 7, 8, 9]"
      ]
     },
     "execution_count": 36,
     "metadata": {},
     "output_type": "execute_result"
    }
   ],
   "source": [
    "listb"
   ]
  },
  {
   "cell_type": "code",
   "execution_count": 38,
   "id": "fded1d70",
   "metadata": {},
   "outputs": [],
   "source": [
    "lista.sort(reverse = True)"
   ]
  },
  {
   "cell_type": "code",
   "execution_count": 39,
   "id": "130b8aee",
   "metadata": {},
   "outputs": [
    {
     "data": {
      "text/plain": [
       "[9, 8, 7, 6, 5, 4, 3, 2, 1]"
      ]
     },
     "execution_count": 39,
     "metadata": {},
     "output_type": "execute_result"
    }
   ],
   "source": [
    "lista"
   ]
  },
  {
   "cell_type": "code",
   "execution_count": 43,
   "id": "90215e98",
   "metadata": {},
   "outputs": [],
   "source": [
    "#List comphrehension\n",
    "squares = [x**2 for x in range(10)] \n",
    "even_squares = [x**2 for x in range(10) if x%2==0]"
   ]
  },
  {
   "cell_type": "code",
   "execution_count": 44,
   "id": "607bbe66",
   "metadata": {},
   "outputs": [
    {
     "data": {
      "text/plain": [
       "[0, 4, 16, 36, 64]"
      ]
     },
     "execution_count": 44,
     "metadata": {},
     "output_type": "execute_result"
    }
   ],
   "source": [
    "squares\n",
    "even_squares"
   ]
  },
  {
   "cell_type": "code",
   "execution_count": 47,
   "id": "18c50a9b",
   "metadata": {},
   "outputs": [],
   "source": [
    "mat = [[1,2,3],[4,5,6],[7,8,9],[10,11,12]]\n",
    "#transpose a mat by list comphrehension\n",
    "trans_mat = [[row[col] for row in mat] for col in range(3)]"
   ]
  },
  {
   "cell_type": "code",
   "execution_count": 48,
   "id": "433ca24d",
   "metadata": {},
   "outputs": [
    {
     "data": {
      "text/plain": [
       "[[1, 4, 7, 10], [2, 5, 8, 11], [3, 6, 9, 12]]"
      ]
     },
     "execution_count": 48,
     "metadata": {},
     "output_type": "execute_result"
    }
   ],
   "source": [
    "trans_mat"
   ]
  },
  {
   "cell_type": "code",
   "execution_count": 49,
   "id": "601734c7",
   "metadata": {},
   "outputs": [],
   "source": [
    "#or use for transpose\n",
    "trans_mat_1 = list(zip(*mat))"
   ]
  },
  {
   "cell_type": "code",
   "execution_count": 50,
   "id": "744de462",
   "metadata": {},
   "outputs": [
    {
     "data": {
      "text/plain": [
       "[(1, 4, 7, 10), (2, 5, 8, 11), (3, 6, 9, 12)]"
      ]
     },
     "execution_count": 50,
     "metadata": {},
     "output_type": "execute_result"
    }
   ],
   "source": [
    "trans_mat_1"
   ]
  },
  {
   "cell_type": "code",
   "execution_count": null,
   "id": "25e65cdd",
   "metadata": {},
   "outputs": [],
   "source": [
    "#List complete\n",
    "iuencwe clwk"
   ]
  }
 ],
 "metadata": {
  "kernelspec": {
   "display_name": "Python 3 (ipykernel)",
   "language": "python",
   "name": "python3"
  },
  "language_info": {
   "codemirror_mode": {
    "name": "ipython",
    "version": 3
   },
   "file_extension": ".py",
   "mimetype": "text/x-python",
   "name": "python",
   "nbconvert_exporter": "python",
   "pygments_lexer": "ipython3",
   "version": "3.9.7"
  }
 },
 "nbformat": 4,
 "nbformat_minor": 5
}
